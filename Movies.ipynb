{
 "cells": [
  {
   "cell_type": "markdown",
   "id": "08d7a5b6",
   "metadata": {},
   "source": [
    "## Correlation variables in film industry\n",
    "\n",
    "###### Dataset from: https://www.kaggle.com/danielgrijalvas/movies"
   ]
  },
  {
   "cell_type": "code",
   "execution_count": 3,
   "id": "a21a3fef-27f5-403d-ab37-01791fe4375b",
   "metadata": {},
   "outputs": [],
   "source": [
    "# First let's import the packages we will use in this project\n",
    "# You can do this all now or as you need them\n",
    "import pandas as pd\n",
    "import numpy as np\n",
    "import seaborn as sns\n",
    "import missingno as msno\n",
    "\n",
    "import matplotlib.pyplot as plt\n",
    "import matplotlib.mlab as mlab\n",
    "import matplotlib\n",
    "plt.style.use('ggplot')\n",
    "from matplotlib.pyplot import figure\n",
    "\n",
    "%matplotlib inline\n",
    "matplotlib.rcParams['figure.figsize'] = (12,8)\n",
    "\n",
    "pd.options.mode.chained_assignment = None"
   ]
  },
  {
   "cell_type": "code",
   "execution_count": 96,
   "id": "f340e19e-4332-4724-84a0-2489b8d8828f",
   "metadata": {},
   "outputs": [],
   "source": [
    "data = pd.read_csv('movies.csv')"
   ]
  },
  {
   "cell_type": "code",
   "execution_count": 97,
   "id": "58df178c-1b74-470a-8574-075f35f8092e",
   "metadata": {},
   "outputs": [
    {
     "data": {
      "text/html": [
       "<div>\n",
       "<style scoped>\n",
       "    .dataframe tbody tr th:only-of-type {\n",
       "        vertical-align: middle;\n",
       "    }\n",
       "\n",
       "    .dataframe tbody tr th {\n",
       "        vertical-align: top;\n",
       "    }\n",
       "\n",
       "    .dataframe thead th {\n",
       "        text-align: right;\n",
       "    }\n",
       "</style>\n",
       "<table border=\"1\" class=\"dataframe\">\n",
       "  <thead>\n",
       "    <tr style=\"text-align: right;\">\n",
       "      <th></th>\n",
       "      <th>name</th>\n",
       "      <th>rating</th>\n",
       "      <th>genre</th>\n",
       "      <th>year</th>\n",
       "      <th>released</th>\n",
       "      <th>score</th>\n",
       "      <th>votes</th>\n",
       "      <th>director</th>\n",
       "      <th>writer</th>\n",
       "      <th>star</th>\n",
       "      <th>country</th>\n",
       "      <th>budget</th>\n",
       "      <th>gross</th>\n",
       "      <th>company</th>\n",
       "      <th>runtime</th>\n",
       "    </tr>\n",
       "  </thead>\n",
       "  <tbody>\n",
       "    <tr>\n",
       "      <th>0</th>\n",
       "      <td>The Shining</td>\n",
       "      <td>R</td>\n",
       "      <td>Drama</td>\n",
       "      <td>1980</td>\n",
       "      <td>June 13, 1980 (United States)</td>\n",
       "      <td>8.4</td>\n",
       "      <td>927000.0</td>\n",
       "      <td>Stanley Kubrick</td>\n",
       "      <td>Stephen King</td>\n",
       "      <td>Jack Nicholson</td>\n",
       "      <td>United Kingdom</td>\n",
       "      <td>19000000.0</td>\n",
       "      <td>46998772.0</td>\n",
       "      <td>Warner Bros.</td>\n",
       "      <td>146.0</td>\n",
       "    </tr>\n",
       "    <tr>\n",
       "      <th>1</th>\n",
       "      <td>The Blue Lagoon</td>\n",
       "      <td>R</td>\n",
       "      <td>Adventure</td>\n",
       "      <td>1980</td>\n",
       "      <td>July 2, 1980 (United States)</td>\n",
       "      <td>5.8</td>\n",
       "      <td>65000.0</td>\n",
       "      <td>Randal Kleiser</td>\n",
       "      <td>Henry De Vere Stacpoole</td>\n",
       "      <td>Brooke Shields</td>\n",
       "      <td>United States</td>\n",
       "      <td>4500000.0</td>\n",
       "      <td>58853106.0</td>\n",
       "      <td>Columbia Pictures</td>\n",
       "      <td>104.0</td>\n",
       "    </tr>\n",
       "    <tr>\n",
       "      <th>2</th>\n",
       "      <td>Star Wars: Episode V - The Empire Strikes Back</td>\n",
       "      <td>PG</td>\n",
       "      <td>Action</td>\n",
       "      <td>1980</td>\n",
       "      <td>June 20, 1980 (United States)</td>\n",
       "      <td>8.7</td>\n",
       "      <td>1200000.0</td>\n",
       "      <td>Irvin Kershner</td>\n",
       "      <td>Leigh Brackett</td>\n",
       "      <td>Mark Hamill</td>\n",
       "      <td>United States</td>\n",
       "      <td>18000000.0</td>\n",
       "      <td>538375067.0</td>\n",
       "      <td>Lucasfilm</td>\n",
       "      <td>124.0</td>\n",
       "    </tr>\n",
       "    <tr>\n",
       "      <th>3</th>\n",
       "      <td>Airplane!</td>\n",
       "      <td>PG</td>\n",
       "      <td>Comedy</td>\n",
       "      <td>1980</td>\n",
       "      <td>July 2, 1980 (United States)</td>\n",
       "      <td>7.7</td>\n",
       "      <td>221000.0</td>\n",
       "      <td>Jim Abrahams</td>\n",
       "      <td>Jim Abrahams</td>\n",
       "      <td>Robert Hays</td>\n",
       "      <td>United States</td>\n",
       "      <td>3500000.0</td>\n",
       "      <td>83453539.0</td>\n",
       "      <td>Paramount Pictures</td>\n",
       "      <td>88.0</td>\n",
       "    </tr>\n",
       "    <tr>\n",
       "      <th>4</th>\n",
       "      <td>Caddyshack</td>\n",
       "      <td>R</td>\n",
       "      <td>Comedy</td>\n",
       "      <td>1980</td>\n",
       "      <td>July 25, 1980 (United States)</td>\n",
       "      <td>7.3</td>\n",
       "      <td>108000.0</td>\n",
       "      <td>Harold Ramis</td>\n",
       "      <td>Brian Doyle-Murray</td>\n",
       "      <td>Chevy Chase</td>\n",
       "      <td>United States</td>\n",
       "      <td>6000000.0</td>\n",
       "      <td>39846344.0</td>\n",
       "      <td>Orion Pictures</td>\n",
       "      <td>98.0</td>\n",
       "    </tr>\n",
       "  </tbody>\n",
       "</table>\n",
       "</div>"
      ],
      "text/plain": [
       "                                             name rating      genre  year  \\\n",
       "0                                     The Shining      R      Drama  1980   \n",
       "1                                 The Blue Lagoon      R  Adventure  1980   \n",
       "2  Star Wars: Episode V - The Empire Strikes Back     PG     Action  1980   \n",
       "3                                       Airplane!     PG     Comedy  1980   \n",
       "4                                      Caddyshack      R     Comedy  1980   \n",
       "\n",
       "                        released  score      votes         director  \\\n",
       "0  June 13, 1980 (United States)    8.4   927000.0  Stanley Kubrick   \n",
       "1   July 2, 1980 (United States)    5.8    65000.0   Randal Kleiser   \n",
       "2  June 20, 1980 (United States)    8.7  1200000.0   Irvin Kershner   \n",
       "3   July 2, 1980 (United States)    7.7   221000.0     Jim Abrahams   \n",
       "4  July 25, 1980 (United States)    7.3   108000.0     Harold Ramis   \n",
       "\n",
       "                    writer            star         country      budget  \\\n",
       "0             Stephen King  Jack Nicholson  United Kingdom  19000000.0   \n",
       "1  Henry De Vere Stacpoole  Brooke Shields   United States   4500000.0   \n",
       "2           Leigh Brackett     Mark Hamill   United States  18000000.0   \n",
       "3             Jim Abrahams     Robert Hays   United States   3500000.0   \n",
       "4       Brian Doyle-Murray     Chevy Chase   United States   6000000.0   \n",
       "\n",
       "         gross             company  runtime  \n",
       "0   46998772.0        Warner Bros.    146.0  \n",
       "1   58853106.0   Columbia Pictures    104.0  \n",
       "2  538375067.0           Lucasfilm    124.0  \n",
       "3   83453539.0  Paramount Pictures     88.0  \n",
       "4   39846344.0      Orion Pictures     98.0  "
      ]
     },
     "execution_count": 97,
     "metadata": {},
     "output_type": "execute_result"
    }
   ],
   "source": [
    "data.head()"
   ]
  },
  {
   "cell_type": "code",
   "execution_count": 98,
   "id": "de7335f5-0eb8-44a7-aaeb-4b88e242beed",
   "metadata": {},
   "outputs": [],
   "source": [
    "df = data.copy()"
   ]
  },
  {
   "cell_type": "code",
   "execution_count": 7,
   "id": "ea1e7c8d-dd18-4a35-9fbc-0f94208167a1",
   "metadata": {},
   "outputs": [
    {
     "data": {
      "text/html": [
       "<div>\n",
       "<style scoped>\n",
       "    .dataframe tbody tr th:only-of-type {\n",
       "        vertical-align: middle;\n",
       "    }\n",
       "\n",
       "    .dataframe tbody tr th {\n",
       "        vertical-align: top;\n",
       "    }\n",
       "\n",
       "    .dataframe thead th {\n",
       "        text-align: right;\n",
       "    }\n",
       "</style>\n",
       "<table border=\"1\" class=\"dataframe\">\n",
       "  <thead>\n",
       "    <tr style=\"text-align: right;\">\n",
       "      <th></th>\n",
       "      <th>name</th>\n",
       "      <th>rating</th>\n",
       "      <th>genre</th>\n",
       "      <th>year</th>\n",
       "      <th>released</th>\n",
       "      <th>score</th>\n",
       "      <th>votes</th>\n",
       "      <th>director</th>\n",
       "      <th>writer</th>\n",
       "      <th>star</th>\n",
       "      <th>country</th>\n",
       "      <th>budget</th>\n",
       "      <th>gross</th>\n",
       "      <th>company</th>\n",
       "      <th>runtime</th>\n",
       "    </tr>\n",
       "  </thead>\n",
       "  <tbody>\n",
       "    <tr>\n",
       "      <th>0</th>\n",
       "      <td>The Shining</td>\n",
       "      <td>R</td>\n",
       "      <td>Drama</td>\n",
       "      <td>1980</td>\n",
       "      <td>June 13, 1980 (United States)</td>\n",
       "      <td>8.4</td>\n",
       "      <td>927000.0</td>\n",
       "      <td>Stanley Kubrick</td>\n",
       "      <td>Stephen King</td>\n",
       "      <td>Jack Nicholson</td>\n",
       "      <td>United Kingdom</td>\n",
       "      <td>19000000.0</td>\n",
       "      <td>46998772.0</td>\n",
       "      <td>Warner Bros.</td>\n",
       "      <td>146.0</td>\n",
       "    </tr>\n",
       "    <tr>\n",
       "      <th>1</th>\n",
       "      <td>The Blue Lagoon</td>\n",
       "      <td>R</td>\n",
       "      <td>Adventure</td>\n",
       "      <td>1980</td>\n",
       "      <td>July 2, 1980 (United States)</td>\n",
       "      <td>5.8</td>\n",
       "      <td>65000.0</td>\n",
       "      <td>Randal Kleiser</td>\n",
       "      <td>Henry De Vere Stacpoole</td>\n",
       "      <td>Brooke Shields</td>\n",
       "      <td>United States</td>\n",
       "      <td>4500000.0</td>\n",
       "      <td>58853106.0</td>\n",
       "      <td>Columbia Pictures</td>\n",
       "      <td>104.0</td>\n",
       "    </tr>\n",
       "    <tr>\n",
       "      <th>2</th>\n",
       "      <td>Star Wars: Episode V - The Empire Strikes Back</td>\n",
       "      <td>PG</td>\n",
       "      <td>Action</td>\n",
       "      <td>1980</td>\n",
       "      <td>June 20, 1980 (United States)</td>\n",
       "      <td>8.7</td>\n",
       "      <td>1200000.0</td>\n",
       "      <td>Irvin Kershner</td>\n",
       "      <td>Leigh Brackett</td>\n",
       "      <td>Mark Hamill</td>\n",
       "      <td>United States</td>\n",
       "      <td>18000000.0</td>\n",
       "      <td>538375067.0</td>\n",
       "      <td>Lucasfilm</td>\n",
       "      <td>124.0</td>\n",
       "    </tr>\n",
       "    <tr>\n",
       "      <th>3</th>\n",
       "      <td>Airplane!</td>\n",
       "      <td>PG</td>\n",
       "      <td>Comedy</td>\n",
       "      <td>1980</td>\n",
       "      <td>July 2, 1980 (United States)</td>\n",
       "      <td>7.7</td>\n",
       "      <td>221000.0</td>\n",
       "      <td>Jim Abrahams</td>\n",
       "      <td>Jim Abrahams</td>\n",
       "      <td>Robert Hays</td>\n",
       "      <td>United States</td>\n",
       "      <td>3500000.0</td>\n",
       "      <td>83453539.0</td>\n",
       "      <td>Paramount Pictures</td>\n",
       "      <td>88.0</td>\n",
       "    </tr>\n",
       "    <tr>\n",
       "      <th>4</th>\n",
       "      <td>Caddyshack</td>\n",
       "      <td>R</td>\n",
       "      <td>Comedy</td>\n",
       "      <td>1980</td>\n",
       "      <td>July 25, 1980 (United States)</td>\n",
       "      <td>7.3</td>\n",
       "      <td>108000.0</td>\n",
       "      <td>Harold Ramis</td>\n",
       "      <td>Brian Doyle-Murray</td>\n",
       "      <td>Chevy Chase</td>\n",
       "      <td>United States</td>\n",
       "      <td>6000000.0</td>\n",
       "      <td>39846344.0</td>\n",
       "      <td>Orion Pictures</td>\n",
       "      <td>98.0</td>\n",
       "    </tr>\n",
       "    <tr>\n",
       "      <th>5</th>\n",
       "      <td>Friday the 13th</td>\n",
       "      <td>R</td>\n",
       "      <td>Horror</td>\n",
       "      <td>1980</td>\n",
       "      <td>May 9, 1980 (United States)</td>\n",
       "      <td>6.4</td>\n",
       "      <td>123000.0</td>\n",
       "      <td>Sean S. Cunningham</td>\n",
       "      <td>Victor Miller</td>\n",
       "      <td>Betsy Palmer</td>\n",
       "      <td>United States</td>\n",
       "      <td>550000.0</td>\n",
       "      <td>39754601.0</td>\n",
       "      <td>Paramount Pictures</td>\n",
       "      <td>95.0</td>\n",
       "    </tr>\n",
       "    <tr>\n",
       "      <th>6</th>\n",
       "      <td>The Blues Brothers</td>\n",
       "      <td>R</td>\n",
       "      <td>Action</td>\n",
       "      <td>1980</td>\n",
       "      <td>June 20, 1980 (United States)</td>\n",
       "      <td>7.9</td>\n",
       "      <td>188000.0</td>\n",
       "      <td>John Landis</td>\n",
       "      <td>Dan Aykroyd</td>\n",
       "      <td>John Belushi</td>\n",
       "      <td>United States</td>\n",
       "      <td>27000000.0</td>\n",
       "      <td>115229890.0</td>\n",
       "      <td>Universal Pictures</td>\n",
       "      <td>133.0</td>\n",
       "    </tr>\n",
       "    <tr>\n",
       "      <th>7</th>\n",
       "      <td>Raging Bull</td>\n",
       "      <td>R</td>\n",
       "      <td>Biography</td>\n",
       "      <td>1980</td>\n",
       "      <td>December 19, 1980 (United States)</td>\n",
       "      <td>8.2</td>\n",
       "      <td>330000.0</td>\n",
       "      <td>Martin Scorsese</td>\n",
       "      <td>Jake LaMotta</td>\n",
       "      <td>Robert De Niro</td>\n",
       "      <td>United States</td>\n",
       "      <td>18000000.0</td>\n",
       "      <td>23402427.0</td>\n",
       "      <td>Chartoff-Winkler Productions</td>\n",
       "      <td>129.0</td>\n",
       "    </tr>\n",
       "    <tr>\n",
       "      <th>8</th>\n",
       "      <td>Superman II</td>\n",
       "      <td>PG</td>\n",
       "      <td>Action</td>\n",
       "      <td>1980</td>\n",
       "      <td>June 19, 1981 (United States)</td>\n",
       "      <td>6.8</td>\n",
       "      <td>101000.0</td>\n",
       "      <td>Richard Lester</td>\n",
       "      <td>Jerry Siegel</td>\n",
       "      <td>Gene Hackman</td>\n",
       "      <td>United States</td>\n",
       "      <td>54000000.0</td>\n",
       "      <td>108185706.0</td>\n",
       "      <td>Dovemead Films</td>\n",
       "      <td>127.0</td>\n",
       "    </tr>\n",
       "    <tr>\n",
       "      <th>9</th>\n",
       "      <td>The Long Riders</td>\n",
       "      <td>R</td>\n",
       "      <td>Biography</td>\n",
       "      <td>1980</td>\n",
       "      <td>May 16, 1980 (United States)</td>\n",
       "      <td>7.0</td>\n",
       "      <td>10000.0</td>\n",
       "      <td>Walter Hill</td>\n",
       "      <td>Bill Bryden</td>\n",
       "      <td>David Carradine</td>\n",
       "      <td>United States</td>\n",
       "      <td>10000000.0</td>\n",
       "      <td>15795189.0</td>\n",
       "      <td>United Artists</td>\n",
       "      <td>100.0</td>\n",
       "    </tr>\n",
       "  </tbody>\n",
       "</table>\n",
       "</div>"
      ],
      "text/plain": [
       "                                             name rating      genre  year  \\\n",
       "0                                     The Shining      R      Drama  1980   \n",
       "1                                 The Blue Lagoon      R  Adventure  1980   \n",
       "2  Star Wars: Episode V - The Empire Strikes Back     PG     Action  1980   \n",
       "3                                       Airplane!     PG     Comedy  1980   \n",
       "4                                      Caddyshack      R     Comedy  1980   \n",
       "5                                 Friday the 13th      R     Horror  1980   \n",
       "6                              The Blues Brothers      R     Action  1980   \n",
       "7                                     Raging Bull      R  Biography  1980   \n",
       "8                                     Superman II     PG     Action  1980   \n",
       "9                                 The Long Riders      R  Biography  1980   \n",
       "\n",
       "                            released  score      votes            director  \\\n",
       "0      June 13, 1980 (United States)    8.4   927000.0     Stanley Kubrick   \n",
       "1       July 2, 1980 (United States)    5.8    65000.0      Randal Kleiser   \n",
       "2      June 20, 1980 (United States)    8.7  1200000.0      Irvin Kershner   \n",
       "3       July 2, 1980 (United States)    7.7   221000.0        Jim Abrahams   \n",
       "4      July 25, 1980 (United States)    7.3   108000.0        Harold Ramis   \n",
       "5        May 9, 1980 (United States)    6.4   123000.0  Sean S. Cunningham   \n",
       "6      June 20, 1980 (United States)    7.9   188000.0         John Landis   \n",
       "7  December 19, 1980 (United States)    8.2   330000.0     Martin Scorsese   \n",
       "8      June 19, 1981 (United States)    6.8   101000.0      Richard Lester   \n",
       "9       May 16, 1980 (United States)    7.0    10000.0         Walter Hill   \n",
       "\n",
       "                    writer             star         country      budget  \\\n",
       "0             Stephen King   Jack Nicholson  United Kingdom  19000000.0   \n",
       "1  Henry De Vere Stacpoole   Brooke Shields   United States   4500000.0   \n",
       "2           Leigh Brackett      Mark Hamill   United States  18000000.0   \n",
       "3             Jim Abrahams      Robert Hays   United States   3500000.0   \n",
       "4       Brian Doyle-Murray      Chevy Chase   United States   6000000.0   \n",
       "5            Victor Miller     Betsy Palmer   United States    550000.0   \n",
       "6              Dan Aykroyd     John Belushi   United States  27000000.0   \n",
       "7             Jake LaMotta   Robert De Niro   United States  18000000.0   \n",
       "8             Jerry Siegel     Gene Hackman   United States  54000000.0   \n",
       "9              Bill Bryden  David Carradine   United States  10000000.0   \n",
       "\n",
       "         gross                       company  runtime  \n",
       "0   46998772.0                  Warner Bros.    146.0  \n",
       "1   58853106.0             Columbia Pictures    104.0  \n",
       "2  538375067.0                     Lucasfilm    124.0  \n",
       "3   83453539.0            Paramount Pictures     88.0  \n",
       "4   39846344.0                Orion Pictures     98.0  \n",
       "5   39754601.0            Paramount Pictures     95.0  \n",
       "6  115229890.0            Universal Pictures    133.0  \n",
       "7   23402427.0  Chartoff-Winkler Productions    129.0  \n",
       "8  108185706.0                Dovemead Films    127.0  \n",
       "9   15795189.0                United Artists    100.0  "
      ]
     },
     "execution_count": 7,
     "metadata": {},
     "output_type": "execute_result"
    }
   ],
   "source": [
    "df.head(10)"
   ]
  },
  {
   "cell_type": "markdown",
   "id": "f1204178-1135-4336-832c-80b580c15a92",
   "metadata": {},
   "source": [
    "### Data Cleaning"
   ]
  },
  {
   "cell_type": "code",
   "execution_count": 8,
   "id": "4e7204d6-a61c-4e01-81ac-faa42990bbd6",
   "metadata": {},
   "outputs": [
    {
     "name": "stdout",
     "output_type": "stream",
     "text": [
      "<class 'pandas.core.frame.DataFrame'>\n",
      "RangeIndex: 7668 entries, 0 to 7667\n",
      "Data columns (total 15 columns):\n",
      " #   Column    Non-Null Count  Dtype  \n",
      "---  ------    --------------  -----  \n",
      " 0   name      7668 non-null   object \n",
      " 1   rating    7591 non-null   object \n",
      " 2   genre     7668 non-null   object \n",
      " 3   year      7668 non-null   int64  \n",
      " 4   released  7666 non-null   object \n",
      " 5   score     7665 non-null   float64\n",
      " 6   votes     7665 non-null   float64\n",
      " 7   director  7668 non-null   object \n",
      " 8   writer    7665 non-null   object \n",
      " 9   star      7667 non-null   object \n",
      " 10  country   7665 non-null   object \n",
      " 11  budget    5497 non-null   float64\n",
      " 12  gross     7479 non-null   float64\n",
      " 13  company   7651 non-null   object \n",
      " 14  runtime   7664 non-null   float64\n",
      "dtypes: float64(5), int64(1), object(9)\n",
      "memory usage: 898.7+ KB\n"
     ]
    }
   ],
   "source": [
    "df.info()"
   ]
  },
  {
   "cell_type": "code",
   "execution_count": 9,
   "id": "8bf79a59-276f-4188-bfb3-db6aaf978249",
   "metadata": {},
   "outputs": [
    {
     "data": {
      "text/plain": [
       "name           0\n",
       "rating        77\n",
       "genre          0\n",
       "year           0\n",
       "released       2\n",
       "score          3\n",
       "votes          3\n",
       "director       0\n",
       "writer         3\n",
       "star           1\n",
       "country        3\n",
       "budget      2171\n",
       "gross        189\n",
       "company       17\n",
       "runtime        4\n",
       "dtype: int64"
      ]
     },
     "execution_count": 9,
     "metadata": {},
     "output_type": "execute_result"
    }
   ],
   "source": [
    "df.isnull().sum()"
   ]
  },
  {
   "cell_type": "code",
   "execution_count": 10,
   "id": "204a4f84-ee29-41d5-8d46-5b19e370596a",
   "metadata": {},
   "outputs": [
    {
     "data": {
      "text/plain": [
       "array(['United Kingdom', 'United States', 'South Africa', 'West Germany',\n",
       "       'Canada', 'Australia', 'Libya', 'Italy', 'Soviet Union', 'France',\n",
       "       'Hong Kong', 'South Korea', 'Sweden', 'Spain', 'Mexico',\n",
       "       'Switzerland', 'Netherlands', 'New Zealand', 'Philippines',\n",
       "       'Israel', 'Japan', 'Hungary', 'Brazil', 'Yugoslavia', 'Argentina',\n",
       "       'Taiwan', 'Ireland', 'Denmark', 'Germany', 'Iran', 'China',\n",
       "       'Belgium', 'Austria', 'Portugal', 'Vietnam',\n",
       "       'Republic of Macedonia', 'Russia',\n",
       "       'Federal Republic of Yugoslavia', 'Greece', 'Czech Republic',\n",
       "       'Norway', 'India', 'Jamaica', 'Aruba', 'Thailand', 'Colombia',\n",
       "       'Romania', nan, 'United Arab Emirates', 'Indonesia', 'Turkey',\n",
       "       'Serbia', 'Poland', 'Kenya', 'Finland', 'Iceland', 'Chile',\n",
       "       'Panama', 'Malta', 'Lebanon'], dtype=object)"
      ]
     },
     "execution_count": 10,
     "metadata": {},
     "output_type": "execute_result"
    }
   ],
   "source": [
    "df['country'].unique()"
   ]
  },
  {
   "cell_type": "code",
   "execution_count": 11,
   "id": "f3891ce4-7223-4383-aff6-4f4e43bc87c6",
   "metadata": {},
   "outputs": [
    {
     "data": {
      "text/plain": [
       "(7668, 15)"
      ]
     },
     "execution_count": 11,
     "metadata": {},
     "output_type": "execute_result"
    }
   ],
   "source": [
    "df.shape"
   ]
  },
  {
   "cell_type": "markdown",
   "id": "de68cf07-6815-4d61-8e3f-c77c5cda1127",
   "metadata": {},
   "source": [
    "Removing missing values"
   ]
  },
  {
   "cell_type": "code",
   "execution_count": 12,
   "id": "cb4bc41d-0fe9-4b89-b4ff-c36bcfb3a139",
   "metadata": {},
   "outputs": [
    {
     "data": {
      "text/html": [
       "<div>\n",
       "<style scoped>\n",
       "    .dataframe tbody tr th:only-of-type {\n",
       "        vertical-align: middle;\n",
       "    }\n",
       "\n",
       "    .dataframe tbody tr th {\n",
       "        vertical-align: top;\n",
       "    }\n",
       "\n",
       "    .dataframe thead th {\n",
       "        text-align: right;\n",
       "    }\n",
       "</style>\n",
       "<table border=\"1\" class=\"dataframe\">\n",
       "  <thead>\n",
       "    <tr style=\"text-align: right;\">\n",
       "      <th></th>\n",
       "      <th>name</th>\n",
       "      <th>rating</th>\n",
       "      <th>genre</th>\n",
       "      <th>year</th>\n",
       "      <th>released</th>\n",
       "      <th>score</th>\n",
       "      <th>votes</th>\n",
       "      <th>director</th>\n",
       "      <th>writer</th>\n",
       "      <th>star</th>\n",
       "      <th>country</th>\n",
       "      <th>budget</th>\n",
       "      <th>gross</th>\n",
       "      <th>company</th>\n",
       "      <th>runtime</th>\n",
       "    </tr>\n",
       "  </thead>\n",
       "  <tbody>\n",
       "    <tr>\n",
       "      <th>5728</th>\n",
       "      <td>Saw: The Final Chapter</td>\n",
       "      <td>R</td>\n",
       "      <td>Crime</td>\n",
       "      <td>2010</td>\n",
       "      <td>NaN</td>\n",
       "      <td>5.6</td>\n",
       "      <td>93000.0</td>\n",
       "      <td>Kevin Greutert</td>\n",
       "      <td>Patrick Melton</td>\n",
       "      <td>Tobin Bell</td>\n",
       "      <td>NaN</td>\n",
       "      <td>NaN</td>\n",
       "      <td>NaN</td>\n",
       "      <td>NaN</td>\n",
       "      <td>NaN</td>\n",
       "    </tr>\n",
       "    <tr>\n",
       "      <th>5730</th>\n",
       "      <td>The Wolfman</td>\n",
       "      <td>R</td>\n",
       "      <td>Drama</td>\n",
       "      <td>2010</td>\n",
       "      <td>NaN</td>\n",
       "      <td>5.8</td>\n",
       "      <td>104000.0</td>\n",
       "      <td>Joe Johnston</td>\n",
       "      <td>Andrew Kevin Walker</td>\n",
       "      <td>Benicio Del Toro</td>\n",
       "      <td>NaN</td>\n",
       "      <td>NaN</td>\n",
       "      <td>NaN</td>\n",
       "      <td>NaN</td>\n",
       "      <td>NaN</td>\n",
       "    </tr>\n",
       "    <tr>\n",
       "      <th>7615</th>\n",
       "      <td>Clinton Road</td>\n",
       "      <td>NaN</td>\n",
       "      <td>Horror</td>\n",
       "      <td>2019</td>\n",
       "      <td>June 14, 2019 (United States)</td>\n",
       "      <td>5.9</td>\n",
       "      <td>1900.0</td>\n",
       "      <td>Richard Grieco</td>\n",
       "      <td>Noel Ashman</td>\n",
       "      <td>Ace Young</td>\n",
       "      <td>NaN</td>\n",
       "      <td>2500000.0</td>\n",
       "      <td>50400.0</td>\n",
       "      <td>Growing Tree Productions</td>\n",
       "      <td>77.0</td>\n",
       "    </tr>\n",
       "  </tbody>\n",
       "</table>\n",
       "</div>"
      ],
      "text/plain": [
       "                        name rating   genre  year  \\\n",
       "5728  Saw: The Final Chapter      R   Crime  2010   \n",
       "5730             The Wolfman      R   Drama  2010   \n",
       "7615            Clinton Road    NaN  Horror  2019   \n",
       "\n",
       "                           released  score     votes        director  \\\n",
       "5728                            NaN    5.6   93000.0  Kevin Greutert   \n",
       "5730                            NaN    5.8  104000.0    Joe Johnston   \n",
       "7615  June 14, 2019 (United States)    5.9    1900.0  Richard Grieco   \n",
       "\n",
       "                   writer              star country     budget    gross  \\\n",
       "5728       Patrick Melton        Tobin Bell     NaN        NaN      NaN   \n",
       "5730  Andrew Kevin Walker  Benicio Del Toro     NaN        NaN      NaN   \n",
       "7615          Noel Ashman         Ace Young     NaN  2500000.0  50400.0   \n",
       "\n",
       "                       company  runtime  \n",
       "5728                       NaN      NaN  \n",
       "5730                       NaN      NaN  \n",
       "7615  Growing Tree Productions     77.0  "
      ]
     },
     "execution_count": 12,
     "metadata": {},
     "output_type": "execute_result"
    }
   ],
   "source": [
    "df[df['country'].isnull()]"
   ]
  },
  {
   "cell_type": "code",
   "execution_count": 13,
   "id": "05705d1e-b8bc-44d8-8b63-34a5b167ffc4",
   "metadata": {},
   "outputs": [
    {
     "data": {
      "text/plain": [
       "name           0\n",
       "rating        77\n",
       "genre          0\n",
       "year           0\n",
       "released       2\n",
       "score          3\n",
       "votes          3\n",
       "director       0\n",
       "writer         3\n",
       "star           1\n",
       "country        3\n",
       "budget      2171\n",
       "gross        189\n",
       "company       17\n",
       "runtime        4\n",
       "dtype: int64"
      ]
     },
     "execution_count": 13,
     "metadata": {},
     "output_type": "execute_result"
    }
   ],
   "source": [
    "df.isnull().sum()"
   ]
  },
  {
   "cell_type": "code",
   "execution_count": 14,
   "id": "c0a270ff-45bc-4268-9771-8f43bda843fb",
   "metadata": {},
   "outputs": [
    {
     "name": "stdout",
     "output_type": "stream",
     "text": [
      "<class 'pandas.core.frame.DataFrame'>\n",
      "RangeIndex: 7668 entries, 0 to 7667\n",
      "Data columns (total 15 columns):\n",
      " #   Column    Non-Null Count  Dtype  \n",
      "---  ------    --------------  -----  \n",
      " 0   name      7668 non-null   object \n",
      " 1   rating    7591 non-null   object \n",
      " 2   genre     7668 non-null   object \n",
      " 3   year      7668 non-null   int64  \n",
      " 4   released  7666 non-null   object \n",
      " 5   score     7665 non-null   float64\n",
      " 6   votes     7665 non-null   float64\n",
      " 7   director  7668 non-null   object \n",
      " 8   writer    7665 non-null   object \n",
      " 9   star      7667 non-null   object \n",
      " 10  country   7665 non-null   object \n",
      " 11  budget    5497 non-null   float64\n",
      " 12  gross     7479 non-null   float64\n",
      " 13  company   7651 non-null   object \n",
      " 14  runtime   7664 non-null   float64\n",
      "dtypes: float64(5), int64(1), object(9)\n",
      "memory usage: 898.7+ KB\n"
     ]
    }
   ],
   "source": [
    "df.info()"
   ]
  },
  {
   "cell_type": "markdown",
   "id": "7572529a-a620-4b27-be40-537dfd89a26b",
   "metadata": {},
   "source": [
    "Fill missing values with mean"
   ]
  },
  {
   "cell_type": "code",
   "execution_count": 15,
   "id": "45d3442b-b3e0-4010-aa18-6a98b557ca6b",
   "metadata": {},
   "outputs": [],
   "source": [
    "df['gross'].fillna((df['gross'].mean()), inplace=True)"
   ]
  },
  {
   "cell_type": "code",
   "execution_count": 16,
   "id": "3ab10600-7710-43d5-98cf-2dd1777b10e5",
   "metadata": {},
   "outputs": [],
   "source": [
    "df['budget'].fillna((df['budget'].mean()), inplace=True)"
   ]
  },
  {
   "cell_type": "code",
   "execution_count": 17,
   "id": "7974ee2f-adbb-495a-8525-7898ab5a7aa3",
   "metadata": {},
   "outputs": [],
   "source": [
    "df['score'].fillna((df['score'].mean()), inplace=True)"
   ]
  },
  {
   "cell_type": "code",
   "execution_count": 18,
   "id": "e01661ab-756f-4369-bc6b-c3967f09b12b",
   "metadata": {},
   "outputs": [],
   "source": [
    "df['votes'].fillna((df['votes'].mean()), inplace=True)"
   ]
  },
  {
   "cell_type": "code",
   "execution_count": 19,
   "id": "414c7f91-660e-4a9c-8ec5-736cec1b2e30",
   "metadata": {},
   "outputs": [],
   "source": [
    "df['runtime'].fillna((df['runtime'].mean()), inplace=True)"
   ]
  },
  {
   "cell_type": "code",
   "execution_count": 20,
   "id": "73c2606a-4b39-48fa-a903-bee238161362",
   "metadata": {},
   "outputs": [
    {
     "data": {
      "text/plain": [
       "name         0\n",
       "rating      77\n",
       "genre        0\n",
       "year         0\n",
       "released     2\n",
       "score        0\n",
       "votes        0\n",
       "director     0\n",
       "writer       3\n",
       "star         1\n",
       "country      3\n",
       "budget       0\n",
       "gross        0\n",
       "company     17\n",
       "runtime      0\n",
       "dtype: int64"
      ]
     },
     "execution_count": 20,
     "metadata": {},
     "output_type": "execute_result"
    }
   ],
   "source": [
    "df.isnull().sum()"
   ]
  },
  {
   "cell_type": "markdown",
   "id": "fbba319c-a7d1-42ab-bc84-9e74b4c25513",
   "metadata": {},
   "source": [
    "Removing missing data"
   ]
  },
  {
   "cell_type": "code",
   "execution_count": 21,
   "id": "a7016b58-28c9-4cee-afb3-87baafa1c527",
   "metadata": {},
   "outputs": [],
   "source": [
    "df = df.dropna()"
   ]
  },
  {
   "cell_type": "code",
   "execution_count": 22,
   "id": "b4339d31-e1fd-4c7c-9c83-c07f0ba2c7a5",
   "metadata": {},
   "outputs": [
    {
     "data": {
      "text/plain": [
       "name        0\n",
       "rating      0\n",
       "genre       0\n",
       "year        0\n",
       "released    0\n",
       "score       0\n",
       "votes       0\n",
       "director    0\n",
       "writer      0\n",
       "star        0\n",
       "country     0\n",
       "budget      0\n",
       "gross       0\n",
       "company     0\n",
       "runtime     0\n",
       "dtype: int64"
      ]
     },
     "execution_count": 22,
     "metadata": {},
     "output_type": "execute_result"
    }
   ],
   "source": [
    "df.isnull().sum()"
   ]
  },
  {
   "cell_type": "code",
   "execution_count": 23,
   "id": "72034c98-0051-47ae-bb96-5d43df3321da",
   "metadata": {},
   "outputs": [
    {
     "data": {
      "text/plain": [
       "Index(['name', 'rating', 'genre', 'year', 'released', 'score', 'votes',\n",
       "       'director', 'writer', 'star', 'country', 'budget', 'gross', 'company',\n",
       "       'runtime'],\n",
       "      dtype='object')"
      ]
     },
     "execution_count": 23,
     "metadata": {},
     "output_type": "execute_result"
    }
   ],
   "source": [
    "df.columns"
   ]
  },
  {
   "cell_type": "code",
   "execution_count": 24,
   "id": "454a5d91-71dd-4464-acc9-b3bb0ce6974e",
   "metadata": {},
   "outputs": [
    {
     "data": {
      "text/plain": [
       "<AxesSubplot:>"
      ]
     },
     "execution_count": 24,
     "metadata": {},
     "output_type": "execute_result"
    },
    {
     "data": {
      "image/png": "[encoded data removed]",
      "text/plain": [
       "<Figure size 1800x720 with 2 Axes>"
      ]
     },
     "metadata": {
      "needs_background": "light"
     },
     "output_type": "display_data"
    }
   ],
   "source": [
    "msno.matrix(df)"
   ]
  },
  {
   "cell_type": "code",
   "execution_count": 25,
   "id": "1d2702a2-2825-4533-844b-e1eda53f302f",
   "metadata": {},
   "outputs": [
    {
     "data": {
      "text/plain": [
       "<AxesSubplot:>"
      ]
     },
     "execution_count": 25,
     "metadata": {},
     "output_type": "execute_result"
    },
    {
     "data": {
      "image/png": "[encoded data removed]",
      "text/plain": [
       "<Figure size 1728x720 with 3 Axes>"
      ]
     },
     "metadata": {
      "needs_background": "light"
     },
     "output_type": "display_data"
    }
   ],
   "source": [
    "msno.bar(df)"
   ]
  },
  {
   "cell_type": "code",
   "execution_count": 26,
   "id": "a9e9ba8b-1092-4ec8-b64a-7981efae2d74",
   "metadata": {},
   "outputs": [
    {
     "data": {
      "text/html": [
       "<div>\n",
       "<style scoped>\n",
       "    .dataframe tbody tr th:only-of-type {\n",
       "        vertical-align: middle;\n",
       "    }\n",
       "\n",
       "    .dataframe tbody tr th {\n",
       "        vertical-align: top;\n",
       "    }\n",
       "\n",
       "    .dataframe thead th {\n",
       "        text-align: right;\n",
       "    }\n",
       "</style>\n",
       "<table border=\"1\" class=\"dataframe\">\n",
       "  <thead>\n",
       "    <tr style=\"text-align: right;\">\n",
       "      <th></th>\n",
       "      <th>year</th>\n",
       "      <th>score</th>\n",
       "      <th>votes</th>\n",
       "      <th>budget</th>\n",
       "      <th>gross</th>\n",
       "      <th>runtime</th>\n",
       "    </tr>\n",
       "  </thead>\n",
       "  <tbody>\n",
       "    <tr>\n",
       "      <th>count</th>\n",
       "      <td>7576.000000</td>\n",
       "      <td>7576.000000</td>\n",
       "      <td>7.576000e+03</td>\n",
       "      <td>7.576000e+03</td>\n",
       "      <td>7.576000e+03</td>\n",
       "      <td>7576.000000</td>\n",
       "    </tr>\n",
       "    <tr>\n",
       "      <th>mean</th>\n",
       "      <td>2000.381204</td>\n",
       "      <td>6.389201</td>\n",
       "      <td>8.893430e+04</td>\n",
       "      <td>3.567737e+07</td>\n",
       "      <td>7.897755e+07</td>\n",
       "      <td>107.292933</td>\n",
       "    </tr>\n",
       "    <tr>\n",
       "      <th>std</th>\n",
       "      <td>11.110481</td>\n",
       "      <td>0.968364</td>\n",
       "      <td>1.640211e+05</td>\n",
       "      <td>3.526803e+07</td>\n",
       "      <td>1.644079e+08</td>\n",
       "      <td>18.582930</td>\n",
       "    </tr>\n",
       "    <tr>\n",
       "      <th>min</th>\n",
       "      <td>1980.000000</td>\n",
       "      <td>1.900000</td>\n",
       "      <td>3.500000e+01</td>\n",
       "      <td>3.000000e+03</td>\n",
       "      <td>3.090000e+02</td>\n",
       "      <td>63.000000</td>\n",
       "    </tr>\n",
       "    <tr>\n",
       "      <th>25%</th>\n",
       "      <td>1991.000000</td>\n",
       "      <td>5.800000</td>\n",
       "      <td>9.400000e+03</td>\n",
       "      <td>1.400000e+07</td>\n",
       "      <td>4.844968e+06</td>\n",
       "      <td>95.000000</td>\n",
       "    </tr>\n",
       "    <tr>\n",
       "      <th>50%</th>\n",
       "      <td>2000.000000</td>\n",
       "      <td>6.500000</td>\n",
       "      <td>3.300000e+04</td>\n",
       "      <td>3.558988e+07</td>\n",
       "      <td>2.151432e+07</td>\n",
       "      <td>104.000000</td>\n",
       "    </tr>\n",
       "    <tr>\n",
       "      <th>75%</th>\n",
       "      <td>2010.000000</td>\n",
       "      <td>7.100000</td>\n",
       "      <td>9.400000e+04</td>\n",
       "      <td>3.558988e+07</td>\n",
       "      <td>7.850054e+07</td>\n",
       "      <td>116.000000</td>\n",
       "    </tr>\n",
       "    <tr>\n",
       "      <th>max</th>\n",
       "      <td>2020.000000</td>\n",
       "      <td>9.300000</td>\n",
       "      <td>2.400000e+06</td>\n",
       "      <td>3.560000e+08</td>\n",
       "      <td>2.847246e+09</td>\n",
       "      <td>366.000000</td>\n",
       "    </tr>\n",
       "  </tbody>\n",
       "</table>\n",
       "</div>"
      ],
      "text/plain": [
       "              year        score         votes        budget         gross  \\\n",
       "count  7576.000000  7576.000000  7.576000e+03  7.576000e+03  7.576000e+03   \n",
       "mean   2000.381204     6.389201  8.893430e+04  3.567737e+07  7.897755e+07   \n",
       "std      11.110481     0.968364  1.640211e+05  3.526803e+07  1.644079e+08   \n",
       "min    1980.000000     1.900000  3.500000e+01  3.000000e+03  3.090000e+02   \n",
       "25%    1991.000000     5.800000  9.400000e+03  1.400000e+07  4.844968e+06   \n",
       "50%    2000.000000     6.500000  3.300000e+04  3.558988e+07  2.151432e+07   \n",
       "75%    2010.000000     7.100000  9.400000e+04  3.558988e+07  7.850054e+07   \n",
       "max    2020.000000     9.300000  2.400000e+06  3.560000e+08  2.847246e+09   \n",
       "\n",
       "           runtime  \n",
       "count  7576.000000  \n",
       "mean    107.292933  \n",
       "std      18.582930  \n",
       "min      63.000000  \n",
       "25%      95.000000  \n",
       "50%     104.000000  \n",
       "75%     116.000000  \n",
       "max     366.000000  "
      ]
     },
     "execution_count": 26,
     "metadata": {},
     "output_type": "execute_result"
    }
   ],
   "source": [
    "df.describe()"
   ]
  },
  {
   "cell_type": "code",
   "execution_count": 27,
   "id": "ff958411-7e6e-49e2-9289-2c5a2488aace",
   "metadata": {},
   "outputs": [
    {
     "data": {
      "text/plain": [
       "(7576, 15)"
      ]
     },
     "execution_count": 27,
     "metadata": {},
     "output_type": "execute_result"
    }
   ],
   "source": [
    "df.shape"
   ]
  },
  {
   "cell_type": "code",
   "execution_count": 28,
   "id": "f7fadb93-275b-4320-98ec-068505e7736f",
   "metadata": {},
   "outputs": [
    {
     "data": {
      "text/plain": [
       "<AxesSubplot:>"
      ]
     },
     "execution_count": 28,
     "metadata": {},
     "output_type": "execute_result"
    },
    {
     "data": {
      "image/png": "[encoded data removed]",
      "text/plain": [
       "<Figure size 864x576 with 1 Axes>"
      ]
     },
     "metadata": {
      "needs_background": "light"
     },
     "output_type": "display_data"
    }
   ],
   "source": [
    "df.boxplot(column=['gross'])"
   ]
  },
  {
   "cell_type": "markdown",
   "id": "46dc283a-7a9a-4fa5-8142-b88bf08a1a9d",
   "metadata": {},
   "source": [
    "Are there any outliers?"
   ]
  },
  {
   "cell_type": "code",
   "execution_count": 29,
   "id": "97111492-ae14-4c6b-9c53-11ba3e9193be",
   "metadata": {},
   "outputs": [],
   "source": [
    "pd.set_option('display.max_rows', None)"
   ]
  },
  {
   "cell_type": "markdown",
   "id": "1583e78e-a8bb-4e11-a731-40fd94caff68",
   "metadata": {},
   "source": [
    "Due the released date and year doesn't match in all cases"
   ]
  },
  {
   "cell_type": "code",
   "execution_count": 33,
   "id": "de1be310",
   "metadata": {},
   "outputs": [],
   "source": [
    "split = df['released'].str.split(',', expand=True).pipe(lambda x: x.set_axis(x.columns + 1, axis=1)).add_prefix('date_').fillna('')\n"
   ]
  },
  {
   "cell_type": "code",
   "execution_count": 35,
   "id": "0c71c2e2",
   "metadata": {},
   "outputs": [],
   "source": [
    "df = pd.concat([df, split], axis=1)"
   ]
  },
  {
   "cell_type": "code",
   "execution_count": null,
   "id": "463b35bb",
   "metadata": {},
   "outputs": [],
   "source": [
    "df.head(100)"
   ]
  },
  {
   "cell_type": "code",
   "execution_count": 39,
   "id": "3c110a7c",
   "metadata": {},
   "outputs": [],
   "source": [
    "df.drop(['year'], axis=1, inplace=True)"
   ]
  },
  {
   "cell_type": "code",
   "execution_count": 43,
   "id": "21bf7e3a",
   "metadata": {},
   "outputs": [],
   "source": [
    "df['year'] = df['date_2'].astype(str).str[:5]"
   ]
  },
  {
   "cell_type": "code",
   "execution_count": 46,
   "id": "b2467d6b",
   "metadata": {
    "scrolled": true
   },
   "outputs": [
    {
     "data": {
      "text/html": [
       "<div>\n",
       "<style scoped>\n",
       "    .dataframe tbody tr th:only-of-type {\n",
       "        vertical-align: middle;\n",
       "    }\n",
       "\n",
       "    .dataframe tbody tr th {\n",
       "        vertical-align: top;\n",
       "    }\n",
       "\n",
       "    .dataframe thead th {\n",
       "        text-align: right;\n",
       "    }\n",
       "</style>\n",
       "<table border=\"1\" class=\"dataframe\">\n",
       "  <thead>\n",
       "    <tr style=\"text-align: right;\">\n",
       "      <th></th>\n",
       "      <th>name</th>\n",
       "      <th>rating</th>\n",
       "      <th>genre</th>\n",
       "      <th>released</th>\n",
       "      <th>score</th>\n",
       "      <th>votes</th>\n",
       "      <th>director</th>\n",
       "      <th>writer</th>\n",
       "      <th>star</th>\n",
       "      <th>country</th>\n",
       "      <th>budget</th>\n",
       "      <th>gross</th>\n",
       "      <th>company</th>\n",
       "      <th>runtime</th>\n",
       "      <th>date_1</th>\n",
       "      <th>year</th>\n",
       "    </tr>\n",
       "  </thead>\n",
       "  <tbody>\n",
       "    <tr>\n",
       "      <th>0</th>\n",
       "      <td>The Shining</td>\n",
       "      <td>R</td>\n",
       "      <td>Drama</td>\n",
       "      <td>June 13, 1980 (United States)</td>\n",
       "      <td>8.4</td>\n",
       "      <td>927000.0</td>\n",
       "      <td>Stanley Kubrick</td>\n",
       "      <td>Stephen King</td>\n",
       "      <td>Jack Nicholson</td>\n",
       "      <td>United Kingdom</td>\n",
       "      <td>19000000.0</td>\n",
       "      <td>46998772.0</td>\n",
       "      <td>Warner Bros.</td>\n",
       "      <td>146.0</td>\n",
       "      <td>June 13</td>\n",
       "      <td>1980</td>\n",
       "    </tr>\n",
       "    <tr>\n",
       "      <th>1</th>\n",
       "      <td>The Blue Lagoon</td>\n",
       "      <td>R</td>\n",
       "      <td>Adventure</td>\n",
       "      <td>July 2, 1980 (United States)</td>\n",
       "      <td>5.8</td>\n",
       "      <td>65000.0</td>\n",
       "      <td>Randal Kleiser</td>\n",
       "      <td>Henry De Vere Stacpoole</td>\n",
       "      <td>Brooke Shields</td>\n",
       "      <td>United States</td>\n",
       "      <td>4500000.0</td>\n",
       "      <td>58853106.0</td>\n",
       "      <td>Columbia Pictures</td>\n",
       "      <td>104.0</td>\n",
       "      <td>July 2</td>\n",
       "      <td>1980</td>\n",
       "    </tr>\n",
       "    <tr>\n",
       "      <th>2</th>\n",
       "      <td>Star Wars: Episode V - The Empire Strikes Back</td>\n",
       "      <td>PG</td>\n",
       "      <td>Action</td>\n",
       "      <td>June 20, 1980 (United States)</td>\n",
       "      <td>8.7</td>\n",
       "      <td>1200000.0</td>\n",
       "      <td>Irvin Kershner</td>\n",
       "      <td>Leigh Brackett</td>\n",
       "      <td>Mark Hamill</td>\n",
       "      <td>United States</td>\n",
       "      <td>18000000.0</td>\n",
       "      <td>538375067.0</td>\n",
       "      <td>Lucasfilm</td>\n",
       "      <td>124.0</td>\n",
       "      <td>June 20</td>\n",
       "      <td>1980</td>\n",
       "    </tr>\n",
       "    <tr>\n",
       "      <th>3</th>\n",
       "      <td>Airplane!</td>\n",
       "      <td>PG</td>\n",
       "      <td>Comedy</td>\n",
       "      <td>July 2, 1980 (United States)</td>\n",
       "      <td>7.7</td>\n",
       "      <td>221000.0</td>\n",
       "      <td>Jim Abrahams</td>\n",
       "      <td>Jim Abrahams</td>\n",
       "      <td>Robert Hays</td>\n",
       "      <td>United States</td>\n",
       "      <td>3500000.0</td>\n",
       "      <td>83453539.0</td>\n",
       "      <td>Paramount Pictures</td>\n",
       "      <td>88.0</td>\n",
       "      <td>July 2</td>\n",
       "      <td>1980</td>\n",
       "    </tr>\n",
       "    <tr>\n",
       "      <th>4</th>\n",
       "      <td>Caddyshack</td>\n",
       "      <td>R</td>\n",
       "      <td>Comedy</td>\n",
       "      <td>July 25, 1980 (United States)</td>\n",
       "      <td>7.3</td>\n",
       "      <td>108000.0</td>\n",
       "      <td>Harold Ramis</td>\n",
       "      <td>Brian Doyle-Murray</td>\n",
       "      <td>Chevy Chase</td>\n",
       "      <td>United States</td>\n",
       "      <td>6000000.0</td>\n",
       "      <td>39846344.0</td>\n",
       "      <td>Orion Pictures</td>\n",
       "      <td>98.0</td>\n",
       "      <td>July 25</td>\n",
       "      <td>1980</td>\n",
       "    </tr>\n",
       "  </tbody>\n",
       "</table>\n",
       "</div>"
      ],
      "text/plain": [
       "                                             name rating      genre  \\\n",
       "0                                     The Shining      R      Drama   \n",
       "1                                 The Blue Lagoon      R  Adventure   \n",
       "2  Star Wars: Episode V - The Empire Strikes Back     PG     Action   \n",
       "3                                       Airplane!     PG     Comedy   \n",
       "4                                      Caddyshack      R     Comedy   \n",
       "\n",
       "                        released  score      votes         director  \\\n",
       "0  June 13, 1980 (United States)    8.4   927000.0  Stanley Kubrick   \n",
       "1   July 2, 1980 (United States)    5.8    65000.0   Randal Kleiser   \n",
       "2  June 20, 1980 (United States)    8.7  1200000.0   Irvin Kershner   \n",
       "3   July 2, 1980 (United States)    7.7   221000.0     Jim Abrahams   \n",
       "4  July 25, 1980 (United States)    7.3   108000.0     Harold Ramis   \n",
       "\n",
       "                    writer            star         country      budget  \\\n",
       "0             Stephen King  Jack Nicholson  United Kingdom  19000000.0   \n",
       "1  Henry De Vere Stacpoole  Brooke Shields   United States   4500000.0   \n",
       "2           Leigh Brackett     Mark Hamill   United States  18000000.0   \n",
       "3             Jim Abrahams     Robert Hays   United States   3500000.0   \n",
       "4       Brian Doyle-Murray     Chevy Chase   United States   6000000.0   \n",
       "\n",
       "         gross             company  runtime   date_1   year  \n",
       "0   46998772.0        Warner Bros.    146.0  June 13   1980  \n",
       "1   58853106.0   Columbia Pictures    104.0   July 2   1980  \n",
       "2  538375067.0           Lucasfilm    124.0  June 20   1980  \n",
       "3   83453539.0  Paramount Pictures     88.0   July 2   1980  \n",
       "4   39846344.0      Orion Pictures     98.0  July 25   1980  "
      ]
     },
     "execution_count": 46,
     "metadata": {},
     "output_type": "execute_result"
    }
   ],
   "source": [
    "df.head(5)"
   ]
  },
  {
   "cell_type": "code",
   "execution_count": 45,
   "id": "2bff5ed4",
   "metadata": {},
   "outputs": [],
   "source": [
    "df.drop(['date_2'], axis=1, inplace=True)"
   ]
  },
  {
   "cell_type": "code",
   "execution_count": 48,
   "id": "5ecd7a88",
   "metadata": {},
   "outputs": [],
   "source": [
    "df.drop(['released'], axis=1, inplace=True)"
   ]
  },
  {
   "cell_type": "code",
   "execution_count": null,
   "id": "453d44e6",
   "metadata": {},
   "outputs": [],
   "source": [
    "## df.sort_values(by =['gross'], inplace = False,ascending = False )"
   ]
  },
  {
   "cell_type": "code",
   "execution_count": 93,
   "id": "ab6326c5",
   "metadata": {},
   "outputs": [
    {
     "data": {
      "text/html": [
       "<div>\n",
       "<style scoped>\n",
       "    .dataframe tbody tr th:only-of-type {\n",
       "        vertical-align: middle;\n",
       "    }\n",
       "\n",
       "    .dataframe tbody tr th {\n",
       "        vertical-align: top;\n",
       "    }\n",
       "\n",
       "    .dataframe thead th {\n",
       "        text-align: right;\n",
       "    }\n",
       "</style>\n",
       "<table border=\"1\" class=\"dataframe\">\n",
       "  <thead>\n",
       "    <tr style=\"text-align: right;\">\n",
       "      <th></th>\n",
       "      <th>name</th>\n",
       "      <th>rating</th>\n",
       "      <th>genre</th>\n",
       "      <th>score</th>\n",
       "      <th>votes</th>\n",
       "      <th>director</th>\n",
       "      <th>writer</th>\n",
       "      <th>star</th>\n",
       "      <th>country</th>\n",
       "      <th>budget</th>\n",
       "      <th>gross</th>\n",
       "      <th>company</th>\n",
       "      <th>runtime</th>\n",
       "      <th>date_1</th>\n",
       "      <th>year</th>\n",
       "    </tr>\n",
       "  </thead>\n",
       "  <tbody>\n",
       "    <tr>\n",
       "      <th>0</th>\n",
       "      <td>6508</td>\n",
       "      <td>6</td>\n",
       "      <td>6</td>\n",
       "      <td>8.4</td>\n",
       "      <td>927000.0</td>\n",
       "      <td>2545</td>\n",
       "      <td>3960</td>\n",
       "      <td>1022</td>\n",
       "      <td>54</td>\n",
       "      <td>19000000.0</td>\n",
       "      <td>46998772.0</td>\n",
       "      <td>2274</td>\n",
       "      <td>146.0</td>\n",
       "      <td>211</td>\n",
       "      <td>1</td>\n",
       "    </tr>\n",
       "    <tr>\n",
       "      <th>1</th>\n",
       "      <td>5500</td>\n",
       "      <td>6</td>\n",
       "      <td>1</td>\n",
       "      <td>5.8</td>\n",
       "      <td>65000.0</td>\n",
       "      <td>2234</td>\n",
       "      <td>1613</td>\n",
       "      <td>316</td>\n",
       "      <td>55</td>\n",
       "      <td>4500000.0</td>\n",
       "      <td>58853106.0</td>\n",
       "      <td>710</td>\n",
       "      <td>104.0</td>\n",
       "      <td>187</td>\n",
       "      <td>1</td>\n",
       "    </tr>\n",
       "    <tr>\n",
       "      <th>2</th>\n",
       "      <td>5075</td>\n",
       "      <td>4</td>\n",
       "      <td>0</td>\n",
       "      <td>8.7</td>\n",
       "      <td>1200000.0</td>\n",
       "      <td>1093</td>\n",
       "      <td>2535</td>\n",
       "      <td>1708</td>\n",
       "      <td>55</td>\n",
       "      <td>18000000.0</td>\n",
       "      <td>538375067.0</td>\n",
       "      <td>1506</td>\n",
       "      <td>124.0</td>\n",
       "      <td>222</td>\n",
       "      <td>1</td>\n",
       "    </tr>\n",
       "    <tr>\n",
       "      <th>3</th>\n",
       "      <td>282</td>\n",
       "      <td>4</td>\n",
       "      <td>4</td>\n",
       "      <td>7.7</td>\n",
       "      <td>221000.0</td>\n",
       "      <td>1279</td>\n",
       "      <td>1976</td>\n",
       "      <td>2198</td>\n",
       "      <td>55</td>\n",
       "      <td>3500000.0</td>\n",
       "      <td>83453539.0</td>\n",
       "      <td>1770</td>\n",
       "      <td>88.0</td>\n",
       "      <td>187</td>\n",
       "      <td>1</td>\n",
       "    </tr>\n",
       "    <tr>\n",
       "      <th>4</th>\n",
       "      <td>1016</td>\n",
       "      <td>6</td>\n",
       "      <td>4</td>\n",
       "      <td>7.3</td>\n",
       "      <td>108000.0</td>\n",
       "      <td>1037</td>\n",
       "      <td>511</td>\n",
       "      <td>398</td>\n",
       "      <td>55</td>\n",
       "      <td>6000000.0</td>\n",
       "      <td>39846344.0</td>\n",
       "      <td>1737</td>\n",
       "      <td>98.0</td>\n",
       "      <td>193</td>\n",
       "      <td>1</td>\n",
       "    </tr>\n",
       "  </tbody>\n",
       "</table>\n",
       "</div>"
      ],
      "text/plain": [
       "   name  rating  genre  score      votes  director  writer  star  country  \\\n",
       "0  6508       6      6    8.4   927000.0      2545    3960  1022       54   \n",
       "1  5500       6      1    5.8    65000.0      2234    1613   316       55   \n",
       "2  5075       4      0    8.7  1200000.0      1093    2535  1708       55   \n",
       "3   282       4      4    7.7   221000.0      1279    1976  2198       55   \n",
       "4  1016       6      4    7.3   108000.0      1037     511   398       55   \n",
       "\n",
       "       budget        gross  company  runtime  date_1  year  \n",
       "0  19000000.0   46998772.0     2274    146.0     211     1  \n",
       "1   4500000.0   58853106.0      710    104.0     187     1  \n",
       "2  18000000.0  538375067.0     1506    124.0     222     1  \n",
       "3   3500000.0   83453539.0     1770     88.0     187     1  \n",
       "4   6000000.0   39846344.0     1737     98.0     193     1  "
      ]
     },
     "execution_count": 93,
     "metadata": {},
     "output_type": "execute_result"
    }
   ],
   "source": [
    "df.head()"
   ]
  },
  {
   "cell_type": "markdown",
   "id": "7cc8da64",
   "metadata": {},
   "source": [
    "### Hypothesis: The more money they spend the more money they're going to bring in"
   ]
  },
  {
   "cell_type": "markdown",
   "id": "8989fc20",
   "metadata": {},
   "source": [
    "Budget, Company will have high correlation"
   ]
  },
  {
   "cell_type": "code",
   "execution_count": 52,
   "id": "35c00678",
   "metadata": {},
   "outputs": [
    {
     "data": {
      "image/png": "[encoded data removed]",
      "text/plain": [
       "<Figure size 864x576 with 1 Axes>"
      ]
     },
     "metadata": {
      "needs_background": "light"
     },
     "output_type": "display_data"
    }
   ],
   "source": [
    "#Scatter plot with gross and budget\n",
    "\n",
    "plt.scatter(x = df['budget'], y = df['gross'])\n",
    "plt.title(\"Budget vs Gross Earnings\")\n",
    "plt.xlabel('budget')\n",
    "plt.ylabel('gross')\n",
    "plt.show()"
   ]
  },
  {
   "cell_type": "markdown",
   "id": "96cd2320",
   "metadata": {},
   "source": [
    "###### Are they correlated?"
   ]
  },
  {
   "cell_type": "code",
   "execution_count": 57,
   "id": "32850e43",
   "metadata": {},
   "outputs": [
    {
     "data": {
      "text/plain": [
       "<AxesSubplot:xlabel='budget', ylabel='gross'>"
      ]
     },
     "execution_count": 57,
     "metadata": {},
     "output_type": "execute_result"
    },
    {
     "data": {
      "image/png": "[encoded data removed]",
      "text/plain": [
       "<Figure size 864x576 with 1 Axes>"
      ]
     },
     "metadata": {
      "needs_background": "light"
     },
     "output_type": "display_data"
    }
   ],
   "source": [
    "# Budget vs gross using seaborn\n",
    "\n",
    "sns.regplot(x = 'budget', y = 'gross', data = df, scatter_kws = {'color':'black'}, line_kws ={'color': 'blue'}) "
   ]
  },
  {
   "cell_type": "markdown",
   "id": "7faf343c",
   "metadata": {},
   "source": [
    "Let's  start looking the correlation"
   ]
  },
  {
   "cell_type": "code",
   "execution_count": 65,
   "id": "87c5a9ac",
   "metadata": {},
   "outputs": [
    {
     "data": {
      "text/html": [
       "<div>\n",
       "<style scoped>\n",
       "    .dataframe tbody tr th:only-of-type {\n",
       "        vertical-align: middle;\n",
       "    }\n",
       "\n",
       "    .dataframe tbody tr th {\n",
       "        vertical-align: top;\n",
       "    }\n",
       "\n",
       "    .dataframe thead th {\n",
       "        text-align: right;\n",
       "    }\n",
       "</style>\n",
       "<table border=\"1\" class=\"dataframe\">\n",
       "  <thead>\n",
       "    <tr style=\"text-align: right;\">\n",
       "      <th></th>\n",
       "      <th>score</th>\n",
       "      <th>votes</th>\n",
       "      <th>budget</th>\n",
       "      <th>gross</th>\n",
       "      <th>runtime</th>\n",
       "    </tr>\n",
       "  </thead>\n",
       "  <tbody>\n",
       "    <tr>\n",
       "      <th>score</th>\n",
       "      <td>1.000000</td>\n",
       "      <td>0.411938</td>\n",
       "      <td>0.064654</td>\n",
       "      <td>0.185084</td>\n",
       "      <td>0.400526</td>\n",
       "    </tr>\n",
       "    <tr>\n",
       "      <th>votes</th>\n",
       "      <td>0.411938</td>\n",
       "      <td>1.000000</td>\n",
       "      <td>0.421218</td>\n",
       "      <td>0.629325</td>\n",
       "      <td>0.309353</td>\n",
       "    </tr>\n",
       "    <tr>\n",
       "      <th>budget</th>\n",
       "      <td>0.064654</td>\n",
       "      <td>0.421218</td>\n",
       "      <td>1.000000</td>\n",
       "      <td>0.712561</td>\n",
       "      <td>0.265934</td>\n",
       "    </tr>\n",
       "    <tr>\n",
       "      <th>gross</th>\n",
       "      <td>0.185084</td>\n",
       "      <td>0.629325</td>\n",
       "      <td>0.712561</td>\n",
       "      <td>1.000000</td>\n",
       "      <td>0.241618</td>\n",
       "    </tr>\n",
       "    <tr>\n",
       "      <th>runtime</th>\n",
       "      <td>0.400526</td>\n",
       "      <td>0.309353</td>\n",
       "      <td>0.265934</td>\n",
       "      <td>0.241618</td>\n",
       "      <td>1.000000</td>\n",
       "    </tr>\n",
       "  </tbody>\n",
       "</table>\n",
       "</div>"
      ],
      "text/plain": [
       "            score     votes    budget     gross   runtime\n",
       "score    1.000000  0.411938  0.064654  0.185084  0.400526\n",
       "votes    0.411938  1.000000  0.421218  0.629325  0.309353\n",
       "budget   0.064654  0.421218  1.000000  0.712561  0.265934\n",
       "gross    0.185084  0.629325  0.712561  1.000000  0.241618\n",
       "runtime  0.400526  0.309353  0.265934  0.241618  1.000000"
      ]
     },
     "execution_count": 65,
     "metadata": {},
     "output_type": "execute_result"
    }
   ],
   "source": [
    "df.corr(method = 'pearson') #pearson,kendall,spearman"
   ]
  },
  {
   "cell_type": "markdown",
   "id": "60de0643",
   "metadata": {},
   "source": [
    "High correlation between budget and gross "
   ]
  },
  {
   "cell_type": "code",
   "execution_count": 70,
   "id": "4ace3bcc",
   "metadata": {},
   "outputs": [
    {
     "data": {
      "image/png": "[encoded data removed]",
      "text/plain": [
       "<Figure size 864x576 with 2 Axes>"
      ]
     },
     "metadata": {
      "needs_background": "light"
     },
     "output_type": "display_data"
    }
   ],
   "source": [
    "correlation_matrix = df.corr(method='pearson')\n",
    "sns.heatmap(correlation_matrix, annot = True)\n",
    "plt.title('Correlation Matrix for Numeric Features')\n",
    "plt.xlabel('Movie Features')\n",
    "plt.ylabel('Movie Features')\n",
    "plt.show()"
   ]
  },
  {
   "cell_type": "markdown",
   "id": "1264732b",
   "metadata": {},
   "source": [
    "###### Correlation with company\n",
    "Since company is not numerical we will convert it"
   ]
  },
  {
   "cell_type": "code",
   "execution_count": 80,
   "id": "32282ec3",
   "metadata": {},
   "outputs": [
    {
     "name": "stdout",
     "output_type": "stream",
     "text": [
      "2340\n"
     ]
    }
   ],
   "source": [
    "print(len(df['company'].unique()))"
   ]
  },
  {
   "cell_type": "code",
   "execution_count": 83,
   "id": "b88b8d8b",
   "metadata": {},
   "outputs": [],
   "source": [
    "df_num = df.copy()\n",
    "\n",
    "for col_name in df_num:\n",
    "    if(df_num[col_name].dtype == 'object'):\n",
    "        df_num[col_name] =  df_num[col_name].astype('category')\n",
    "        df_num[col_name] =  df_num[col_name].cat.codes\n",
    "            \n"
   ]
  },
  {
   "cell_type": "code",
   "execution_count": 84,
   "id": "dc4ca5a7",
   "metadata": {
    "scrolled": true
   },
   "outputs": [
    {
     "data": {
      "text/html": [
       "<div>\n",
       "<style scoped>\n",
       "    .dataframe tbody tr th:only-of-type {\n",
       "        vertical-align: middle;\n",
       "    }\n",
       "\n",
       "    .dataframe tbody tr th {\n",
       "        vertical-align: top;\n",
       "    }\n",
       "\n",
       "    .dataframe thead th {\n",
       "        text-align: right;\n",
       "    }\n",
       "</style>\n",
       "<table border=\"1\" class=\"dataframe\">\n",
       "  <thead>\n",
       "    <tr style=\"text-align: right;\">\n",
       "      <th></th>\n",
       "      <th>name</th>\n",
       "      <th>rating</th>\n",
       "      <th>genre</th>\n",
       "      <th>score</th>\n",
       "      <th>votes</th>\n",
       "      <th>director</th>\n",
       "      <th>writer</th>\n",
       "      <th>star</th>\n",
       "      <th>country</th>\n",
       "      <th>budget</th>\n",
       "      <th>gross</th>\n",
       "      <th>company</th>\n",
       "      <th>runtime</th>\n",
       "      <th>date_1</th>\n",
       "      <th>year</th>\n",
       "    </tr>\n",
       "  </thead>\n",
       "  <tbody>\n",
       "    <tr>\n",
       "      <th>0</th>\n",
       "      <td>6508</td>\n",
       "      <td>6</td>\n",
       "      <td>6</td>\n",
       "      <td>8.4</td>\n",
       "      <td>927000.0</td>\n",
       "      <td>2545</td>\n",
       "      <td>3960</td>\n",
       "      <td>1022</td>\n",
       "      <td>54</td>\n",
       "      <td>19000000.0</td>\n",
       "      <td>46998772.0</td>\n",
       "      <td>2274</td>\n",
       "      <td>146.0</td>\n",
       "      <td>211</td>\n",
       "      <td>1</td>\n",
       "    </tr>\n",
       "    <tr>\n",
       "      <th>1</th>\n",
       "      <td>5500</td>\n",
       "      <td>6</td>\n",
       "      <td>1</td>\n",
       "      <td>5.8</td>\n",
       "      <td>65000.0</td>\n",
       "      <td>2234</td>\n",
       "      <td>1613</td>\n",
       "      <td>316</td>\n",
       "      <td>55</td>\n",
       "      <td>4500000.0</td>\n",
       "      <td>58853106.0</td>\n",
       "      <td>710</td>\n",
       "      <td>104.0</td>\n",
       "      <td>187</td>\n",
       "      <td>1</td>\n",
       "    </tr>\n",
       "    <tr>\n",
       "      <th>2</th>\n",
       "      <td>5075</td>\n",
       "      <td>4</td>\n",
       "      <td>0</td>\n",
       "      <td>8.7</td>\n",
       "      <td>1200000.0</td>\n",
       "      <td>1093</td>\n",
       "      <td>2535</td>\n",
       "      <td>1708</td>\n",
       "      <td>55</td>\n",
       "      <td>18000000.0</td>\n",
       "      <td>538375067.0</td>\n",
       "      <td>1506</td>\n",
       "      <td>124.0</td>\n",
       "      <td>222</td>\n",
       "      <td>1</td>\n",
       "    </tr>\n",
       "    <tr>\n",
       "      <th>3</th>\n",
       "      <td>282</td>\n",
       "      <td>4</td>\n",
       "      <td>4</td>\n",
       "      <td>7.7</td>\n",
       "      <td>221000.0</td>\n",
       "      <td>1279</td>\n",
       "      <td>1976</td>\n",
       "      <td>2198</td>\n",
       "      <td>55</td>\n",
       "      <td>3500000.0</td>\n",
       "      <td>83453539.0</td>\n",
       "      <td>1770</td>\n",
       "      <td>88.0</td>\n",
       "      <td>187</td>\n",
       "      <td>1</td>\n",
       "    </tr>\n",
       "    <tr>\n",
       "      <th>4</th>\n",
       "      <td>1016</td>\n",
       "      <td>6</td>\n",
       "      <td>4</td>\n",
       "      <td>7.3</td>\n",
       "      <td>108000.0</td>\n",
       "      <td>1037</td>\n",
       "      <td>511</td>\n",
       "      <td>398</td>\n",
       "      <td>55</td>\n",
       "      <td>6000000.0</td>\n",
       "      <td>39846344.0</td>\n",
       "      <td>1737</td>\n",
       "      <td>98.0</td>\n",
       "      <td>193</td>\n",
       "      <td>1</td>\n",
       "    </tr>\n",
       "  </tbody>\n",
       "</table>\n",
       "</div>"
      ],
      "text/plain": [
       "   name  rating  genre  score      votes  director  writer  star  country  \\\n",
       "0  6508       6      6    8.4   927000.0      2545    3960  1022       54   \n",
       "1  5500       6      1    5.8    65000.0      2234    1613   316       55   \n",
       "2  5075       4      0    8.7  1200000.0      1093    2535  1708       55   \n",
       "3   282       4      4    7.7   221000.0      1279    1976  2198       55   \n",
       "4  1016       6      4    7.3   108000.0      1037     511   398       55   \n",
       "\n",
       "       budget        gross  company  runtime  date_1  year  \n",
       "0  19000000.0   46998772.0     2274    146.0     211     1  \n",
       "1   4500000.0   58853106.0      710    104.0     187     1  \n",
       "2  18000000.0  538375067.0     1506    124.0     222     1  \n",
       "3   3500000.0   83453539.0     1770     88.0     187     1  \n",
       "4   6000000.0   39846344.0     1737     98.0     193     1  "
      ]
     },
     "execution_count": 84,
     "metadata": {},
     "output_type": "execute_result"
    }
   ],
   "source": [
    "df_num.head()"
   ]
  },
  {
   "cell_type": "code",
   "execution_count": 85,
   "id": "be632ab2",
   "metadata": {},
   "outputs": [
    {
     "data": {
      "image/png": "[encoded data removed]",
      "text/plain": [
       "<Figure size 864x576 with 2 Axes>"
      ]
     },
     "metadata": {
      "needs_background": "light"
     },
     "output_type": "display_data"
    }
   ],
   "source": [
    "correlation_matrix = df_num.corr(method='pearson')\n",
    "sns.heatmap(correlation_matrix, annot = True)\n",
    "plt.title('Correlation Matrix for Numeric Features')\n",
    "plt.xlabel('Movie Features')\n",
    "plt.ylabel('Movie Features')\n",
    "plt.show()"
   ]
  },
  {
   "cell_type": "code",
   "execution_count": 86,
   "id": "3e4c294f",
   "metadata": {},
   "outputs": [
    {
     "data": {
      "text/html": [
       "<div>\n",
       "<style scoped>\n",
       "    .dataframe tbody tr th:only-of-type {\n",
       "        vertical-align: middle;\n",
       "    }\n",
       "\n",
       "    .dataframe tbody tr th {\n",
       "        vertical-align: top;\n",
       "    }\n",
       "\n",
       "    .dataframe thead th {\n",
       "        text-align: right;\n",
       "    }\n",
       "</style>\n",
       "<table border=\"1\" class=\"dataframe\">\n",
       "  <thead>\n",
       "    <tr style=\"text-align: right;\">\n",
       "      <th></th>\n",
       "      <th>name</th>\n",
       "      <th>rating</th>\n",
       "      <th>genre</th>\n",
       "      <th>score</th>\n",
       "      <th>votes</th>\n",
       "      <th>director</th>\n",
       "      <th>writer</th>\n",
       "      <th>star</th>\n",
       "      <th>country</th>\n",
       "      <th>budget</th>\n",
       "      <th>gross</th>\n",
       "      <th>company</th>\n",
       "      <th>runtime</th>\n",
       "      <th>date_1</th>\n",
       "      <th>year</th>\n",
       "    </tr>\n",
       "  </thead>\n",
       "  <tbody>\n",
       "    <tr>\n",
       "      <th>name</th>\n",
       "      <td>1.000000</td>\n",
       "      <td>-0.011944</td>\n",
       "      <td>0.015250</td>\n",
       "      <td>0.016160</td>\n",
       "      <td>0.013174</td>\n",
       "      <td>0.009605</td>\n",
       "      <td>0.010271</td>\n",
       "      <td>0.005666</td>\n",
       "      <td>-0.009942</td>\n",
       "      <td>0.020954</td>\n",
       "      <td>0.005071</td>\n",
       "      <td>0.010085</td>\n",
       "      <td>0.011130</td>\n",
       "      <td>-0.010039</td>\n",
       "      <td>0.012090</td>\n",
       "    </tr>\n",
       "    <tr>\n",
       "      <th>rating</th>\n",
       "      <td>-0.011944</td>\n",
       "      <td>1.000000</td>\n",
       "      <td>0.117657</td>\n",
       "      <td>0.011562</td>\n",
       "      <td>0.016092</td>\n",
       "      <td>0.017211</td>\n",
       "      <td>-0.004538</td>\n",
       "      <td>0.005972</td>\n",
       "      <td>0.037765</td>\n",
       "      <td>-0.156385</td>\n",
       "      <td>-0.129384</td>\n",
       "      <td>-0.076860</td>\n",
       "      <td>0.069152</td>\n",
       "      <td>0.024120</td>\n",
       "      <td>0.024249</td>\n",
       "    </tr>\n",
       "    <tr>\n",
       "      <th>genre</th>\n",
       "      <td>0.015250</td>\n",
       "      <td>0.117657</td>\n",
       "      <td>1.000000</td>\n",
       "      <td>0.040281</td>\n",
       "      <td>-0.148341</td>\n",
       "      <td>-0.013502</td>\n",
       "      <td>0.006956</td>\n",
       "      <td>-0.003450</td>\n",
       "      <td>-0.031503</td>\n",
       "      <td>-0.316818</td>\n",
       "      <td>-0.238240</td>\n",
       "      <td>-0.068755</td>\n",
       "      <td>-0.044531</td>\n",
       "      <td>0.031023</td>\n",
       "      <td>-0.088346</td>\n",
       "    </tr>\n",
       "    <tr>\n",
       "      <th>score</th>\n",
       "      <td>0.016160</td>\n",
       "      <td>0.011562</td>\n",
       "      <td>0.040281</td>\n",
       "      <td>1.000000</td>\n",
       "      <td>0.411938</td>\n",
       "      <td>0.008074</td>\n",
       "      <td>0.018887</td>\n",
       "      <td>-0.002196</td>\n",
       "      <td>-0.130144</td>\n",
       "      <td>0.064654</td>\n",
       "      <td>0.185084</td>\n",
       "      <td>0.000325</td>\n",
       "      <td>0.400526</td>\n",
       "      <td>0.041759</td>\n",
       "      <td>0.108649</td>\n",
       "    </tr>\n",
       "    <tr>\n",
       "      <th>votes</th>\n",
       "      <td>0.013174</td>\n",
       "      <td>0.016092</td>\n",
       "      <td>-0.148341</td>\n",
       "      <td>0.411938</td>\n",
       "      <td>1.000000</td>\n",
       "      <td>-0.000628</td>\n",
       "      <td>0.000133</td>\n",
       "      <td>-0.020975</td>\n",
       "      <td>0.069563</td>\n",
       "      <td>0.421218</td>\n",
       "      <td>0.629325</td>\n",
       "      <td>0.129579</td>\n",
       "      <td>0.309353</td>\n",
       "      <td>0.015912</td>\n",
       "      <td>0.223856</td>\n",
       "    </tr>\n",
       "    <tr>\n",
       "      <th>director</th>\n",
       "      <td>0.009605</td>\n",
       "      <td>0.017211</td>\n",
       "      <td>-0.013502</td>\n",
       "      <td>0.008074</td>\n",
       "      <td>-0.000628</td>\n",
       "      <td>1.000000</td>\n",
       "      <td>0.297418</td>\n",
       "      <td>0.037564</td>\n",
       "      <td>0.015242</td>\n",
       "      <td>-0.010373</td>\n",
       "      <td>-0.014106</td>\n",
       "      <td>0.001328</td>\n",
       "      <td>0.017403</td>\n",
       "      <td>-0.001765</td>\n",
       "      <td>-0.020391</td>\n",
       "    </tr>\n",
       "    <tr>\n",
       "      <th>writer</th>\n",
       "      <td>0.010271</td>\n",
       "      <td>-0.004538</td>\n",
       "      <td>0.006956</td>\n",
       "      <td>0.018887</td>\n",
       "      <td>0.000133</td>\n",
       "      <td>0.297418</td>\n",
       "      <td>1.000000</td>\n",
       "      <td>0.026462</td>\n",
       "      <td>0.014936</td>\n",
       "      <td>-0.033407</td>\n",
       "      <td>-0.023732</td>\n",
       "      <td>0.003174</td>\n",
       "      <td>-0.004657</td>\n",
       "      <td>-0.004082</td>\n",
       "      <td>-0.010046</td>\n",
       "    </tr>\n",
       "    <tr>\n",
       "      <th>star</th>\n",
       "      <td>0.005666</td>\n",
       "      <td>0.005972</td>\n",
       "      <td>-0.003450</td>\n",
       "      <td>-0.002196</td>\n",
       "      <td>-0.020975</td>\n",
       "      <td>0.037564</td>\n",
       "      <td>0.026462</td>\n",
       "      <td>1.000000</td>\n",
       "      <td>-0.017577</td>\n",
       "      <td>-0.017244</td>\n",
       "      <td>-0.002506</td>\n",
       "      <td>0.009243</td>\n",
       "      <td>0.008550</td>\n",
       "      <td>0.018379</td>\n",
       "      <td>-0.025371</td>\n",
       "    </tr>\n",
       "    <tr>\n",
       "      <th>country</th>\n",
       "      <td>-0.009942</td>\n",
       "      <td>0.037765</td>\n",
       "      <td>-0.031503</td>\n",
       "      <td>-0.130144</td>\n",
       "      <td>0.069563</td>\n",
       "      <td>0.015242</td>\n",
       "      <td>0.014936</td>\n",
       "      <td>-0.017577</td>\n",
       "      <td>1.000000</td>\n",
       "      <td>0.038387</td>\n",
       "      <td>0.090446</td>\n",
       "      <td>0.088941</td>\n",
       "      <td>-0.081417</td>\n",
       "      <td>-0.021778</td>\n",
       "      <td>-0.075105</td>\n",
       "    </tr>\n",
       "    <tr>\n",
       "      <th>budget</th>\n",
       "      <td>0.020954</td>\n",
       "      <td>-0.156385</td>\n",
       "      <td>-0.316818</td>\n",
       "      <td>0.064654</td>\n",
       "      <td>0.421218</td>\n",
       "      <td>-0.010373</td>\n",
       "      <td>-0.033407</td>\n",
       "      <td>-0.017244</td>\n",
       "      <td>0.038387</td>\n",
       "      <td>1.000000</td>\n",
       "      <td>0.712561</td>\n",
       "      <td>0.144166</td>\n",
       "      <td>0.265934</td>\n",
       "      <td>0.012391</td>\n",
       "      <td>0.262555</td>\n",
       "    </tr>\n",
       "    <tr>\n",
       "      <th>gross</th>\n",
       "      <td>0.005071</td>\n",
       "      <td>-0.129384</td>\n",
       "      <td>-0.238240</td>\n",
       "      <td>0.185084</td>\n",
       "      <td>0.629325</td>\n",
       "      <td>-0.014106</td>\n",
       "      <td>-0.023732</td>\n",
       "      <td>-0.002506</td>\n",
       "      <td>0.090446</td>\n",
       "      <td>0.712561</td>\n",
       "      <td>1.000000</td>\n",
       "      <td>0.152463</td>\n",
       "      <td>0.241618</td>\n",
       "      <td>-0.000156</td>\n",
       "      <td>0.248493</td>\n",
       "    </tr>\n",
       "    <tr>\n",
       "      <th>company</th>\n",
       "      <td>0.010085</td>\n",
       "      <td>-0.076860</td>\n",
       "      <td>-0.068755</td>\n",
       "      <td>0.000325</td>\n",
       "      <td>0.129579</td>\n",
       "      <td>0.001328</td>\n",
       "      <td>0.003174</td>\n",
       "      <td>0.009243</td>\n",
       "      <td>0.088941</td>\n",
       "      <td>0.144166</td>\n",
       "      <td>0.152463</td>\n",
       "      <td>1.000000</td>\n",
       "      <td>0.030856</td>\n",
       "      <td>-0.008284</td>\n",
       "      <td>-0.009261</td>\n",
       "    </tr>\n",
       "    <tr>\n",
       "      <th>runtime</th>\n",
       "      <td>0.011130</td>\n",
       "      <td>0.069152</td>\n",
       "      <td>-0.044531</td>\n",
       "      <td>0.400526</td>\n",
       "      <td>0.309353</td>\n",
       "      <td>0.017403</td>\n",
       "      <td>-0.004657</td>\n",
       "      <td>0.008550</td>\n",
       "      <td>-0.081417</td>\n",
       "      <td>0.265934</td>\n",
       "      <td>0.241618</td>\n",
       "      <td>0.030856</td>\n",
       "      <td>1.000000</td>\n",
       "      <td>-0.001868</td>\n",
       "      <td>0.121337</td>\n",
       "    </tr>\n",
       "    <tr>\n",
       "      <th>date_1</th>\n",
       "      <td>-0.010039</td>\n",
       "      <td>0.024120</td>\n",
       "      <td>0.031023</td>\n",
       "      <td>0.041759</td>\n",
       "      <td>0.015912</td>\n",
       "      <td>-0.001765</td>\n",
       "      <td>-0.004082</td>\n",
       "      <td>0.018379</td>\n",
       "      <td>-0.021778</td>\n",
       "      <td>0.012391</td>\n",
       "      <td>-0.000156</td>\n",
       "      <td>-0.008284</td>\n",
       "      <td>-0.001868</td>\n",
       "      <td>1.000000</td>\n",
       "      <td>-0.007461</td>\n",
       "    </tr>\n",
       "    <tr>\n",
       "      <th>year</th>\n",
       "      <td>0.012090</td>\n",
       "      <td>0.024249</td>\n",
       "      <td>-0.088346</td>\n",
       "      <td>0.108649</td>\n",
       "      <td>0.223856</td>\n",
       "      <td>-0.020391</td>\n",
       "      <td>-0.010046</td>\n",
       "      <td>-0.025371</td>\n",
       "      <td>-0.075105</td>\n",
       "      <td>0.262555</td>\n",
       "      <td>0.248493</td>\n",
       "      <td>-0.009261</td>\n",
       "      <td>0.121337</td>\n",
       "      <td>-0.007461</td>\n",
       "      <td>1.000000</td>\n",
       "    </tr>\n",
       "  </tbody>\n",
       "</table>\n",
       "</div>"
      ],
      "text/plain": [
       "              name    rating     genre     score     votes  director  \\\n",
       "name      1.000000 -0.011944  0.015250  0.016160  0.013174  0.009605   \n",
       "rating   -0.011944  1.000000  0.117657  0.011562  0.016092  0.017211   \n",
       "genre     0.015250  0.117657  1.000000  0.040281 -0.148341 -0.013502   \n",
       "score     0.016160  0.011562  0.040281  1.000000  0.411938  0.008074   \n",
       "votes     0.013174  0.016092 -0.148341  0.411938  1.000000 -0.000628   \n",
       "director  0.009605  0.017211 -0.013502  0.008074 -0.000628  1.000000   \n",
       "writer    0.010271 -0.004538  0.006956  0.018887  0.000133  0.297418   \n",
       "star      0.005666  0.005972 -0.003450 -0.002196 -0.020975  0.037564   \n",
       "country  -0.009942  0.037765 -0.031503 -0.130144  0.069563  0.015242   \n",
       "budget    0.020954 -0.156385 -0.316818  0.064654  0.421218 -0.010373   \n",
       "gross     0.005071 -0.129384 -0.238240  0.185084  0.629325 -0.014106   \n",
       "company   0.010085 -0.076860 -0.068755  0.000325  0.129579  0.001328   \n",
       "runtime   0.011130  0.069152 -0.044531  0.400526  0.309353  0.017403   \n",
       "date_1   -0.010039  0.024120  0.031023  0.041759  0.015912 -0.001765   \n",
       "year      0.012090  0.024249 -0.088346  0.108649  0.223856 -0.020391   \n",
       "\n",
       "            writer      star   country    budget     gross   company  \\\n",
       "name      0.010271  0.005666 -0.009942  0.020954  0.005071  0.010085   \n",
       "rating   -0.004538  0.005972  0.037765 -0.156385 -0.129384 -0.076860   \n",
       "genre     0.006956 -0.003450 -0.031503 -0.316818 -0.238240 -0.068755   \n",
       "score     0.018887 -0.002196 -0.130144  0.064654  0.185084  0.000325   \n",
       "votes     0.000133 -0.020975  0.069563  0.421218  0.629325  0.129579   \n",
       "director  0.297418  0.037564  0.015242 -0.010373 -0.014106  0.001328   \n",
       "writer    1.000000  0.026462  0.014936 -0.033407 -0.023732  0.003174   \n",
       "star      0.026462  1.000000 -0.017577 -0.017244 -0.002506  0.009243   \n",
       "country   0.014936 -0.017577  1.000000  0.038387  0.090446  0.088941   \n",
       "budget   -0.033407 -0.017244  0.038387  1.000000  0.712561  0.144166   \n",
       "gross    -0.023732 -0.002506  0.090446  0.712561  1.000000  0.152463   \n",
       "company   0.003174  0.009243  0.088941  0.144166  0.152463  1.000000   \n",
       "runtime  -0.004657  0.008550 -0.081417  0.265934  0.241618  0.030856   \n",
       "date_1   -0.004082  0.018379 -0.021778  0.012391 -0.000156 -0.008284   \n",
       "year     -0.010046 -0.025371 -0.075105  0.262555  0.248493 -0.009261   \n",
       "\n",
       "           runtime    date_1      year  \n",
       "name      0.011130 -0.010039  0.012090  \n",
       "rating    0.069152  0.024120  0.024249  \n",
       "genre    -0.044531  0.031023 -0.088346  \n",
       "score     0.400526  0.041759  0.108649  \n",
       "votes     0.309353  0.015912  0.223856  \n",
       "director  0.017403 -0.001765 -0.020391  \n",
       "writer   -0.004657 -0.004082 -0.010046  \n",
       "star      0.008550  0.018379 -0.025371  \n",
       "country  -0.081417 -0.021778 -0.075105  \n",
       "budget    0.265934  0.012391  0.262555  \n",
       "gross     0.241618 -0.000156  0.248493  \n",
       "company   0.030856 -0.008284 -0.009261  \n",
       "runtime   1.000000 -0.001868  0.121337  \n",
       "date_1   -0.001868  1.000000 -0.007461  \n",
       "year      0.121337 -0.007461  1.000000  "
      ]
     },
     "execution_count": 86,
     "metadata": {},
     "output_type": "execute_result"
    }
   ],
   "source": [
    "df_num.corr()"
   ]
  },
  {
   "cell_type": "code",
   "execution_count": 87,
   "id": "1255321c",
   "metadata": {},
   "outputs": [],
   "source": [
    "correlation_matrix_num = df_num.corr()\n",
    "corr_pairs = correlation_matrix_num.unstack()"
   ]
  },
  {
   "cell_type": "code",
   "execution_count": null,
   "id": "1d5ef63a",
   "metadata": {},
   "outputs": [],
   "source": [
    "corr_pairs"
   ]
  },
  {
   "cell_type": "code",
   "execution_count": null,
   "id": "1e7aef73",
   "metadata": {},
   "outputs": [],
   "source": [
    "sorted_pairs = corr_pairs.sort_values()\n",
    "\n",
    "sorted_pairs"
   ]
  },
  {
   "cell_type": "code",
   "execution_count": 90,
   "id": "c2f7e138",
   "metadata": {},
   "outputs": [
    {
     "data": {
      "text/plain": [
       "gross     votes       0.629325\n",
       "votes     gross       0.629325\n",
       "budget    gross       0.712561\n",
       "gross     budget      0.712561\n",
       "name      name        1.000000\n",
       "star      star        1.000000\n",
       "runtime   runtime     1.000000\n",
       "company   company     1.000000\n",
       "gross     gross       1.000000\n",
       "budget    budget      1.000000\n",
       "country   country     1.000000\n",
       "writer    writer      1.000000\n",
       "director  director    1.000000\n",
       "votes     votes       1.000000\n",
       "score     score       1.000000\n",
       "genre     genre       1.000000\n",
       "rating    rating      1.000000\n",
       "date_1    date_1      1.000000\n",
       "year      year        1.000000\n",
       "dtype: float64"
      ]
     },
     "execution_count": 90,
     "metadata": {},
     "output_type": "execute_result"
    }
   ],
   "source": [
    "high_corr = sorted_pairs[(sorted_pairs) > 0.5]\n",
    "\n",
    "high_corr"
   ]
  },
  {
   "cell_type": "markdown",
   "id": "2cec949e",
   "metadata": {},
   "source": [
    "Votes and budget have the highest correlation to gross earnings\n",
    "Company has low correlation"
   ]
  },
  {
   "cell_type": "markdown",
   "id": "8562d1e6",
   "metadata": {},
   "source": [
    "###### Observations"
   ]
  },
  {
   "cell_type": "code",
   "execution_count": 100,
   "id": "0a1d64ed",
   "metadata": {
    "scrolled": true
   },
   "outputs": [
    {
     "data": {
      "text/plain": [
       "company\n",
       "Warner Bros.                 56491421806\n",
       "Universal Pictures           52514188890\n",
       "Columbia Pictures            43008941346\n",
       "Paramount Pictures           40493607415\n",
       "Twentieth Century Fox        40257053857\n",
       "Walt Disney Pictures         36327887792\n",
       "New Line Cinema              19883797684\n",
       "Marvel Studios               15065592411\n",
       "DreamWorks Animation         11873612858\n",
       "Touchstone Pictures          11795832638\n",
       "Dreamworks Pictures          11635441081\n",
       "Metro-Goldwyn-Mayer (MGM)     9230230105\n",
       "Summit Entertainment          8373718838\n",
       "Pixar Animation Studios       7886344526\n",
       "Fox 2000 Pictures             7443502667\n",
       "Name: gross, dtype: int64"
      ]
     },
     "execution_count": 100,
     "metadata": {},
     "output_type": "execute_result"
    }
   ],
   "source": [
    "# Looking at the top 15 compaies by gross revenue\n",
    "\n",
    "CompanyGrossSum = df.groupby('company')[[\"gross\"]].sum()\n",
    "\n",
    "CompanyGrossSumSorted = CompanyGrossSum.sort_values('gross', ascending = False)[:15]\n",
    "\n",
    "CompanyGrossSumSorted = CompanyGrossSumSorted['gross'].astype('int64') \n",
    "\n",
    "CompanyGrossSumSorted"
   ]
  },
  {
   "cell_type": "code",
   "execution_count": null,
   "id": "addd7a4b",
   "metadata": {},
   "outputs": [],
   "source": [
    "df.groupby(['company', 'year'])[[\"gross\"]].sum()"
   ]
  },
  {
   "cell_type": "code",
   "execution_count": 102,
   "id": "d383aee3",
   "metadata": {},
   "outputs": [
    {
     "data": {
      "text/plain": [
       "company                year\n",
       "Walt Disney Pictures   2019    5773131804\n",
       "Marvel Studios         2018    4018631866\n",
       "Universal Pictures     2015    3834354888\n",
       "Twentieth Century Fox  2009    3793491246\n",
       "Walt Disney Pictures   2017    3789382071\n",
       "Paramount Pictures     2011    3565705182\n",
       "Warner Bros.           2010    3300479986\n",
       "                       2011    3223799224\n",
       "Walt Disney Pictures   2010    3104474158\n",
       "Paramount Pictures     2014    3071298586\n",
       "Columbia Pictures      2006    2934631933\n",
       "                       2019    2932757449\n",
       "Marvel Studios         2019    2797501328\n",
       "Warner Bros.           2018    2774168962\n",
       "Columbia Pictures      2011    2738363306\n",
       "Name: gross, dtype: int64"
      ]
     },
     "execution_count": 102,
     "metadata": {},
     "output_type": "execute_result"
    }
   ],
   "source": [
    "CompanyGrossSum = df.groupby(['company', 'year'])[[\"gross\"]].sum()\n",
    "\n",
    "CompanyGrossSumSorted = CompanyGrossSum.sort_values(['gross','company','year'], ascending = False)[:15]\n",
    "\n",
    "CompanyGrossSumSorted = CompanyGrossSumSorted['gross'].astype('int64') \n",
    "\n",
    "CompanyGrossSumSorted"
   ]
  },
  {
   "cell_type": "code",
   "execution_count": 103,
   "id": "ec6de32a",
   "metadata": {},
   "outputs": [
    {
     "name": "stderr",
     "output_type": "stream",
     "text": [
      "/home/aldos/anaconda3/lib/python3.9/site-packages/seaborn/categorical.py:1296: UserWarning: 94.1% of the points cannot be placed; you may want to decrease the size of the markers or use stripplot.\n",
      "  warnings.warn(msg, UserWarning)\n",
      "/home/aldos/anaconda3/lib/python3.9/site-packages/seaborn/categorical.py:1296: UserWarning: 83.5% of the points cannot be placed; you may want to decrease the size of the markers or use stripplot.\n",
      "  warnings.warn(msg, UserWarning)\n",
      "/home/aldos/anaconda3/lib/python3.9/site-packages/seaborn/categorical.py:1296: UserWarning: 45.1% of the points cannot be placed; you may want to decrease the size of the markers or use stripplot.\n",
      "  warnings.warn(msg, UserWarning)\n",
      "/home/aldos/anaconda3/lib/python3.9/site-packages/seaborn/categorical.py:1296: UserWarning: 79.9% of the points cannot be placed; you may want to decrease the size of the markers or use stripplot.\n",
      "  warnings.warn(msg, UserWarning)\n",
      "/home/aldos/anaconda3/lib/python3.9/site-packages/seaborn/categorical.py:1296: UserWarning: 52.2% of the points cannot be placed; you may want to decrease the size of the markers or use stripplot.\n",
      "  warnings.warn(msg, UserWarning)\n",
      "/home/aldos/anaconda3/lib/python3.9/site-packages/seaborn/categorical.py:1296: UserWarning: 87.5% of the points cannot be placed; you may want to decrease the size of the markers or use stripplot.\n",
      "  warnings.warn(msg, UserWarning)\n",
      "/home/aldos/anaconda3/lib/python3.9/site-packages/seaborn/categorical.py:1296: UserWarning: 73.1% of the points cannot be placed; you may want to decrease the size of the markers or use stripplot.\n",
      "  warnings.warn(msg, UserWarning)\n"
     ]
    },
    {
     "data": {
      "text/plain": [
       "<AxesSubplot:xlabel='rating', ylabel='gross'>"
      ]
     },
     "execution_count": 103,
     "metadata": {},
     "output_type": "execute_result"
    },
    {
     "data": {
      "image/png": "[encoded data removed]",
      "text/plain": [
       "<Figure size 864x576 with 1 Axes>"
      ]
     },
     "metadata": {
      "needs_background": "light"
     },
     "output_type": "display_data"
    }
   ],
   "source": [
    "sns.swarmplot(x=\"rating\", y=\"gross\", data=df)"
   ]
  },
  {
   "cell_type": "code",
   "execution_count": null,
   "id": "3376ecc0",
   "metadata": {},
   "outputs": [],
   "source": []
  },
  {
   "cell_type": "code",
   "execution_count": 104,
   "id": "40f69a71",
   "metadata": {},
   "outputs": [
    {
     "data": {
      "text/plain": [
       "<AxesSubplot:xlabel='rating', ylabel='gross'>"
      ]
     },
     "execution_count": 104,
     "metadata": {},
     "output_type": "execute_result"
    },
    {
     "data": {
      "image/png": "[encoded data removed]",
      "text/plain": [
       "<Figure size 864x576 with 1 Axes>"
      ]
     },
     "metadata": {
      "needs_background": "light"
     },
     "output_type": "display_data"
    }
   ],
   "source": [
    "sns.stripplot(x=\"rating\", y=\"gross\", data=df)"
   ]
  }
 ],
 "metadata": {
  "kernelspec": {
   "display_name": "Python 3 (ipykernel)",
   "language": "python",
   "name": "python3"
  },
  "language_info": {
   "codemirror_mode": {
    "name": "ipython",
    "version": 3
   },
   "file_extension": ".py",
   "mimetype": "text/x-python",
   "name": "python",
   "nbconvert_exporter": "python",
   "pygments_lexer": "ipython3",
   "version": "3.10.2"
  }
 },
 "nbformat": 4,
 "nbformat_minor": 5
}
